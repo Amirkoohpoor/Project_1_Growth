{
 "cells": [
  {
   "cell_type": "code",
   "execution_count": 2,
   "metadata": {},
   "outputs": [
    {
     "data": {
      "text/html": [
       "<div>\n",
       "<style scoped>\n",
       "    .dataframe tbody tr th:only-of-type {\n",
       "        vertical-align: middle;\n",
       "    }\n",
       "\n",
       "    .dataframe tbody tr th {\n",
       "        vertical-align: top;\n",
       "    }\n",
       "\n",
       "    .dataframe thead th {\n",
       "        text-align: right;\n",
       "    }\n",
       "</style>\n",
       "<table border=\"1\" class=\"dataframe\">\n",
       "  <thead>\n",
       "    <tr style=\"text-align: right;\">\n",
       "      <th></th>\n",
       "      <th>Unnamed: 0</th>\n",
       "      <th>REF_DATE</th>\n",
       "      <th>GEO</th>\n",
       "      <th>Labour force characteristics</th>\n",
       "      <th>Sex</th>\n",
       "      <th>Age group</th>\n",
       "      <th>North American Industry Classification System (NAICS)</th>\n",
       "      <th>VALUE</th>\n",
       "    </tr>\n",
       "  </thead>\n",
       "  <tbody>\n",
       "    <tr>\n",
       "      <th>0</th>\n",
       "      <td>190872</td>\n",
       "      <td>1988</td>\n",
       "      <td>Canada</td>\n",
       "      <td>Labour force</td>\n",
       "      <td>Both sexes</td>\n",
       "      <td>15 years and over</td>\n",
       "      <td>Total, all industries</td>\n",
       "      <td>13779.1</td>\n",
       "    </tr>\n",
       "    <tr>\n",
       "      <th>1</th>\n",
       "      <td>190873</td>\n",
       "      <td>1988</td>\n",
       "      <td>Canada</td>\n",
       "      <td>Labour force</td>\n",
       "      <td>Both sexes</td>\n",
       "      <td>15 to 24 years</td>\n",
       "      <td>Total, all industries</td>\n",
       "      <td>2891.6</td>\n",
       "    </tr>\n",
       "    <tr>\n",
       "      <th>2</th>\n",
       "      <td>190874</td>\n",
       "      <td>1988</td>\n",
       "      <td>Canada</td>\n",
       "      <td>Labour force</td>\n",
       "      <td>Both sexes</td>\n",
       "      <td>25 to 54 years</td>\n",
       "      <td>Total, all industries</td>\n",
       "      <td>9539.1</td>\n",
       "    </tr>\n",
       "    <tr>\n",
       "      <th>3</th>\n",
       "      <td>190875</td>\n",
       "      <td>1988</td>\n",
       "      <td>Canada</td>\n",
       "      <td>Labour force</td>\n",
       "      <td>Both sexes</td>\n",
       "      <td>55 years and over</td>\n",
       "      <td>Total, all industries</td>\n",
       "      <td>1348.4</td>\n",
       "    </tr>\n",
       "    <tr>\n",
       "      <th>4</th>\n",
       "      <td>190876</td>\n",
       "      <td>1988</td>\n",
       "      <td>Canada</td>\n",
       "      <td>Labour force</td>\n",
       "      <td>Males</td>\n",
       "      <td>15 years and over</td>\n",
       "      <td>Total, all industries</td>\n",
       "      <td>7754.3</td>\n",
       "    </tr>\n",
       "  </tbody>\n",
       "</table>\n",
       "</div>"
      ],
      "text/plain": [
       "   Unnamed: 0  REF_DATE     GEO Labour force characteristics         Sex  \\\n",
       "0      190872      1988  Canada                 Labour force  Both sexes   \n",
       "1      190873      1988  Canada                 Labour force  Both sexes   \n",
       "2      190874      1988  Canada                 Labour force  Both sexes   \n",
       "3      190875      1988  Canada                 Labour force  Both sexes   \n",
       "4      190876      1988  Canada                 Labour force       Males   \n",
       "\n",
       "           Age group North American Industry Classification System (NAICS)  \\\n",
       "0  15 years and over                              Total, all industries      \n",
       "1     15 to 24 years                              Total, all industries      \n",
       "2     25 to 54 years                              Total, all industries      \n",
       "3  55 years and over                              Total, all industries      \n",
       "4  15 years and over                              Total, all industries      \n",
       "\n",
       "     VALUE  \n",
       "0  13779.1  \n",
       "1   2891.6  \n",
       "2   9539.1  \n",
       "3   1348.4  \n",
       "4   7754.3  "
      ]
     },
     "execution_count": 2,
     "metadata": {},
     "output_type": "execute_result"
    }
   ],
   "source": [
    "import pandas as pd \n",
    "import matplotlib.pyplot as plt\n",
    "import numpy as np\n",
    "%matplotlib notebook\n",
    "fpath = \"main_table.csv\"\n",
    "df = pd.read_csv(fpath)\n",
    "df.head()"
   ]
  },
  {
   "cell_type": "code",
   "execution_count": 3,
   "metadata": {},
   "outputs": [],
   "source": [
    "##INSERT COMMENTS HERE "
   ]
  },
  {
   "cell_type": "code",
   "execution_count": 4,
   "metadata": {
    "scrolled": false
   },
   "outputs": [
    {
     "data": {
      "text/html": [
       "<div>\n",
       "<style scoped>\n",
       "    .dataframe tbody tr th:only-of-type {\n",
       "        vertical-align: middle;\n",
       "    }\n",
       "\n",
       "    .dataframe tbody tr th {\n",
       "        vertical-align: top;\n",
       "    }\n",
       "\n",
       "    .dataframe thead th {\n",
       "        text-align: right;\n",
       "    }\n",
       "</style>\n",
       "<table border=\"1\" class=\"dataframe\">\n",
       "  <thead>\n",
       "    <tr style=\"text-align: right;\">\n",
       "      <th></th>\n",
       "      <th>Unnamed: 0</th>\n",
       "      <th>REF_DATE</th>\n",
       "      <th>GEO</th>\n",
       "      <th>Labour force characteristics</th>\n",
       "      <th>Sex</th>\n",
       "      <th>Age group</th>\n",
       "      <th>North American Industry Classification System (NAICS)</th>\n",
       "      <th>VALUE</th>\n",
       "    </tr>\n",
       "  </thead>\n",
       "  <tbody>\n",
       "    <tr>\n",
       "      <th>0</th>\n",
       "      <td>190872</td>\n",
       "      <td>1988</td>\n",
       "      <td>Canada</td>\n",
       "      <td>Labour force</td>\n",
       "      <td>Both sexes</td>\n",
       "      <td>15 years and over</td>\n",
       "      <td>Total, all industries</td>\n",
       "      <td>13779.1</td>\n",
       "    </tr>\n",
       "    <tr>\n",
       "      <th>1</th>\n",
       "      <td>190873</td>\n",
       "      <td>1988</td>\n",
       "      <td>Canada</td>\n",
       "      <td>Labour force</td>\n",
       "      <td>Both sexes</td>\n",
       "      <td>15 to 24 years</td>\n",
       "      <td>Total, all industries</td>\n",
       "      <td>2891.6</td>\n",
       "    </tr>\n",
       "    <tr>\n",
       "      <th>2</th>\n",
       "      <td>190874</td>\n",
       "      <td>1988</td>\n",
       "      <td>Canada</td>\n",
       "      <td>Labour force</td>\n",
       "      <td>Both sexes</td>\n",
       "      <td>25 to 54 years</td>\n",
       "      <td>Total, all industries</td>\n",
       "      <td>9539.1</td>\n",
       "    </tr>\n",
       "    <tr>\n",
       "      <th>3</th>\n",
       "      <td>190875</td>\n",
       "      <td>1988</td>\n",
       "      <td>Canada</td>\n",
       "      <td>Labour force</td>\n",
       "      <td>Both sexes</td>\n",
       "      <td>55 years and over</td>\n",
       "      <td>Total, all industries</td>\n",
       "      <td>1348.4</td>\n",
       "    </tr>\n",
       "    <tr>\n",
       "      <th>4</th>\n",
       "      <td>190876</td>\n",
       "      <td>1988</td>\n",
       "      <td>Canada</td>\n",
       "      <td>Labour force</td>\n",
       "      <td>Males</td>\n",
       "      <td>15 years and over</td>\n",
       "      <td>Total, all industries</td>\n",
       "      <td>7754.3</td>\n",
       "    </tr>\n",
       "  </tbody>\n",
       "</table>\n",
       "</div>"
      ],
      "text/plain": [
       "   Unnamed: 0  REF_DATE     GEO Labour force characteristics         Sex  \\\n",
       "0      190872      1988  Canada                 Labour force  Both sexes   \n",
       "1      190873      1988  Canada                 Labour force  Both sexes   \n",
       "2      190874      1988  Canada                 Labour force  Both sexes   \n",
       "3      190875      1988  Canada                 Labour force  Both sexes   \n",
       "4      190876      1988  Canada                 Labour force       Males   \n",
       "\n",
       "           Age group North American Industry Classification System (NAICS)  \\\n",
       "0  15 years and over                              Total, all industries      \n",
       "1     15 to 24 years                              Total, all industries      \n",
       "2     25 to 54 years                              Total, all industries      \n",
       "3  55 years and over                              Total, all industries      \n",
       "4  15 years and over                              Total, all industries      \n",
       "\n",
       "     VALUE  \n",
       "0  13779.1  \n",
       "1   2891.6  \n",
       "2   9539.1  \n",
       "3   1348.4  \n",
       "4   7754.3  "
      ]
     },
     "execution_count": 4,
     "metadata": {},
     "output_type": "execute_result"
    }
   ],
   "source": [
    "df2 = df.loc[df[\"REF_DATE\"] >= 1988]\n",
    "df2.head()"
   ]
  },
  {
   "cell_type": "code",
   "execution_count": 5,
   "metadata": {},
   "outputs": [],
   "source": [
    "##INSERT COMMENTS HERE "
   ]
  },
  {
   "cell_type": "code",
   "execution_count": 6,
   "metadata": {
    "scrolled": true
   },
   "outputs": [
    {
     "data": {
      "text/html": [
       "<div>\n",
       "<style scoped>\n",
       "    .dataframe tbody tr th:only-of-type {\n",
       "        vertical-align: middle;\n",
       "    }\n",
       "\n",
       "    .dataframe tbody tr th {\n",
       "        vertical-align: top;\n",
       "    }\n",
       "\n",
       "    .dataframe thead th {\n",
       "        text-align: right;\n",
       "    }\n",
       "</style>\n",
       "<table border=\"1\" class=\"dataframe\">\n",
       "  <thead>\n",
       "    <tr style=\"text-align: right;\">\n",
       "      <th></th>\n",
       "      <th>REF_DATE</th>\n",
       "      <th>GEO</th>\n",
       "      <th>Labour force characteristics</th>\n",
       "      <th>Sex</th>\n",
       "      <th>Age group</th>\n",
       "      <th>North American Industry Classification System (NAICS)</th>\n",
       "      <th>VALUE</th>\n",
       "    </tr>\n",
       "  </thead>\n",
       "  <tbody>\n",
       "    <tr>\n",
       "      <th>0</th>\n",
       "      <td>1988</td>\n",
       "      <td>Canada</td>\n",
       "      <td>Labour force</td>\n",
       "      <td>Both sexes</td>\n",
       "      <td>15 years and over</td>\n",
       "      <td>Total, all industries</td>\n",
       "      <td>13779.1</td>\n",
       "    </tr>\n",
       "    <tr>\n",
       "      <th>1</th>\n",
       "      <td>1988</td>\n",
       "      <td>Canada</td>\n",
       "      <td>Labour force</td>\n",
       "      <td>Both sexes</td>\n",
       "      <td>15 to 24 years</td>\n",
       "      <td>Total, all industries</td>\n",
       "      <td>2891.6</td>\n",
       "    </tr>\n",
       "    <tr>\n",
       "      <th>2</th>\n",
       "      <td>1988</td>\n",
       "      <td>Canada</td>\n",
       "      <td>Labour force</td>\n",
       "      <td>Both sexes</td>\n",
       "      <td>25 to 54 years</td>\n",
       "      <td>Total, all industries</td>\n",
       "      <td>9539.1</td>\n",
       "    </tr>\n",
       "    <tr>\n",
       "      <th>3</th>\n",
       "      <td>1988</td>\n",
       "      <td>Canada</td>\n",
       "      <td>Labour force</td>\n",
       "      <td>Both sexes</td>\n",
       "      <td>55 years and over</td>\n",
       "      <td>Total, all industries</td>\n",
       "      <td>1348.4</td>\n",
       "    </tr>\n",
       "    <tr>\n",
       "      <th>4</th>\n",
       "      <td>1988</td>\n",
       "      <td>Canada</td>\n",
       "      <td>Labour force</td>\n",
       "      <td>Males</td>\n",
       "      <td>15 years and over</td>\n",
       "      <td>Total, all industries</td>\n",
       "      <td>7754.3</td>\n",
       "    </tr>\n",
       "  </tbody>\n",
       "</table>\n",
       "</div>"
      ],
      "text/plain": [
       "   REF_DATE     GEO Labour force characteristics         Sex  \\\n",
       "0      1988  Canada                 Labour force  Both sexes   \n",
       "1      1988  Canada                 Labour force  Both sexes   \n",
       "2      1988  Canada                 Labour force  Both sexes   \n",
       "3      1988  Canada                 Labour force  Both sexes   \n",
       "4      1988  Canada                 Labour force       Males   \n",
       "\n",
       "           Age group North American Industry Classification System (NAICS)  \\\n",
       "0  15 years and over                              Total, all industries      \n",
       "1     15 to 24 years                              Total, all industries      \n",
       "2     25 to 54 years                              Total, all industries      \n",
       "3  55 years and over                              Total, all industries      \n",
       "4  15 years and over                              Total, all industries      \n",
       "\n",
       "     VALUE  \n",
       "0  13779.1  \n",
       "1   2891.6  \n",
       "2   9539.1  \n",
       "3   1348.4  \n",
       "4   7754.3  "
      ]
     },
     "execution_count": 6,
     "metadata": {},
     "output_type": "execute_result"
    }
   ],
   "source": [
    "df3 =df2[[\"REF_DATE\",\"GEO\",\"Labour force characteristics\",\"Sex\", \"Age group\",\n",
    "          \"North American Industry Classification System (NAICS)\",\"VALUE\"\n",
    "]]\n",
    "df3.reset_index(drop=True).head()"
   ]
  },
  {
   "cell_type": "code",
   "execution_count": 7,
   "metadata": {},
   "outputs": [],
   "source": [
    "## INSERT COMMENTS HERE"
   ]
  },
  {
   "cell_type": "code",
   "execution_count": 8,
   "metadata": {},
   "outputs": [
    {
     "data": {
      "text/plain": [
       "Wholesale trade [41]                    73656\n",
       "Accommodation and food services [72]    24552\n",
       "Utilities [22]                          24552\n",
       "Total, all industries                   24552\n",
       "Construction [23]                       24552\n",
       "Name: North American Industry Classification System (NAICS), dtype: int64"
      ]
     },
     "execution_count": 8,
     "metadata": {},
     "output_type": "execute_result"
    }
   ],
   "source": [
    "df3[\"North American Industry Classification System (NAICS)\"].value_counts().head()"
   ]
  },
  {
   "cell_type": "code",
   "execution_count": 9,
   "metadata": {},
   "outputs": [],
   "source": [
    "##INSERT COMMENTS HERE"
   ]
  },
  {
   "cell_type": "code",
   "execution_count": 10,
   "metadata": {
    "scrolled": true
   },
   "outputs": [
    {
     "data": {
      "text/plain": [
       "Wholesale trade [41]                    73656\n",
       "Accommodation and food services [72]    24552\n",
       "Utilities [22]                          24552\n",
       "Total, all industries                   24552\n",
       "Construction [23]                       24552\n",
       "Name: North American Industry Classification System (NAICS), dtype: int64"
      ]
     },
     "execution_count": 10,
     "metadata": {},
     "output_type": "execute_result"
    }
   ],
   "source": [
    "df3 = df3.replace(\n",
    "    {\"Finance, insurance, real estate, rental and leasing [52, 53]\": \"Finance and insurance\",\n",
    "     \"Wholesale and retail trade [41, 44-45]\":\"Wholesale trade [41]\", \"Retail trade [44-45]\":\"Wholesale trade [41]\"})\n",
    "df3[\"North American Industry Classification System (NAICS)\"].value_counts().head()"
   ]
  },
  {
   "cell_type": "markdown",
   "metadata": {},
   "source": [
    "### SORT CLEANED DATA FRAME FOR 1988 VALUES "
   ]
  },
  {
   "cell_type": "code",
   "execution_count": 11,
   "metadata": {
    "scrolled": true
   },
   "outputs": [
    {
     "data": {
      "text/html": [
       "<div>\n",
       "<style scoped>\n",
       "    .dataframe tbody tr th:only-of-type {\n",
       "        vertical-align: middle;\n",
       "    }\n",
       "\n",
       "    .dataframe tbody tr th {\n",
       "        vertical-align: top;\n",
       "    }\n",
       "\n",
       "    .dataframe thead th {\n",
       "        text-align: right;\n",
       "    }\n",
       "</style>\n",
       "<table border=\"1\" class=\"dataframe\">\n",
       "  <thead>\n",
       "    <tr style=\"text-align: right;\">\n",
       "      <th></th>\n",
       "      <th>REF_DATE</th>\n",
       "      <th>GEO</th>\n",
       "      <th>Labour force characteristics</th>\n",
       "      <th>Sex</th>\n",
       "      <th>Age group</th>\n",
       "      <th>North American Industry Classification System (NAICS)</th>\n",
       "      <th>VALUE</th>\n",
       "    </tr>\n",
       "  </thead>\n",
       "  <tbody>\n",
       "    <tr>\n",
       "      <th>0</th>\n",
       "      <td>1988</td>\n",
       "      <td>Canada</td>\n",
       "      <td>Labour force</td>\n",
       "      <td>Both sexes</td>\n",
       "      <td>15 years and over</td>\n",
       "      <td>Total, all industries</td>\n",
       "      <td>13779.1</td>\n",
       "    </tr>\n",
       "    <tr>\n",
       "      <th>1</th>\n",
       "      <td>1988</td>\n",
       "      <td>Canada</td>\n",
       "      <td>Labour force</td>\n",
       "      <td>Both sexes</td>\n",
       "      <td>15 to 24 years</td>\n",
       "      <td>Total, all industries</td>\n",
       "      <td>2891.6</td>\n",
       "    </tr>\n",
       "    <tr>\n",
       "      <th>2</th>\n",
       "      <td>1988</td>\n",
       "      <td>Canada</td>\n",
       "      <td>Labour force</td>\n",
       "      <td>Both sexes</td>\n",
       "      <td>25 to 54 years</td>\n",
       "      <td>Total, all industries</td>\n",
       "      <td>9539.1</td>\n",
       "    </tr>\n",
       "    <tr>\n",
       "      <th>3</th>\n",
       "      <td>1988</td>\n",
       "      <td>Canada</td>\n",
       "      <td>Labour force</td>\n",
       "      <td>Both sexes</td>\n",
       "      <td>55 years and over</td>\n",
       "      <td>Total, all industries</td>\n",
       "      <td>1348.4</td>\n",
       "    </tr>\n",
       "    <tr>\n",
       "      <th>4</th>\n",
       "      <td>1988</td>\n",
       "      <td>Canada</td>\n",
       "      <td>Labour force</td>\n",
       "      <td>Males</td>\n",
       "      <td>15 years and over</td>\n",
       "      <td>Total, all industries</td>\n",
       "      <td>7754.3</td>\n",
       "    </tr>\n",
       "  </tbody>\n",
       "</table>\n",
       "</div>"
      ],
      "text/plain": [
       "   REF_DATE     GEO Labour force characteristics         Sex  \\\n",
       "0      1988  Canada                 Labour force  Both sexes   \n",
       "1      1988  Canada                 Labour force  Both sexes   \n",
       "2      1988  Canada                 Labour force  Both sexes   \n",
       "3      1988  Canada                 Labour force  Both sexes   \n",
       "4      1988  Canada                 Labour force       Males   \n",
       "\n",
       "           Age group North American Industry Classification System (NAICS)  \\\n",
       "0  15 years and over                              Total, all industries      \n",
       "1     15 to 24 years                              Total, all industries      \n",
       "2     25 to 54 years                              Total, all industries      \n",
       "3  55 years and over                              Total, all industries      \n",
       "4  15 years and over                              Total, all industries      \n",
       "\n",
       "     VALUE  \n",
       "0  13779.1  \n",
       "1   2891.6  \n",
       "2   9539.1  \n",
       "3   1348.4  \n",
       "4   7754.3  "
      ]
     },
     "execution_count": 11,
     "metadata": {},
     "output_type": "execute_result"
    }
   ],
   "source": [
    "df5 = df3.loc[df3[\"REF_DATE\"]==1988]\n",
    "df5.head()"
   ]
  },
  {
   "cell_type": "markdown",
   "metadata": {},
   "source": [
    "### SORT CLEANED DATA FRAME FOR 2018 VALUES "
   ]
  },
  {
   "cell_type": "code",
   "execution_count": 12,
   "metadata": {
    "scrolled": false
   },
   "outputs": [
    {
     "data": {
      "text/html": [
       "<div>\n",
       "<style scoped>\n",
       "    .dataframe tbody tr th:only-of-type {\n",
       "        vertical-align: middle;\n",
       "    }\n",
       "\n",
       "    .dataframe tbody tr th {\n",
       "        vertical-align: top;\n",
       "    }\n",
       "\n",
       "    .dataframe thead th {\n",
       "        text-align: right;\n",
       "    }\n",
       "</style>\n",
       "<table border=\"1\" class=\"dataframe\">\n",
       "  <thead>\n",
       "    <tr style=\"text-align: right;\">\n",
       "      <th></th>\n",
       "      <th>REF_DATE</th>\n",
       "      <th>GEO</th>\n",
       "      <th>Labour force characteristics</th>\n",
       "      <th>Sex</th>\n",
       "      <th>Age group</th>\n",
       "      <th>North American Industry Classification System (NAICS)</th>\n",
       "      <th>VALUE</th>\n",
       "    </tr>\n",
       "  </thead>\n",
       "  <tbody>\n",
       "    <tr>\n",
       "      <th>673200</th>\n",
       "      <td>2018</td>\n",
       "      <td>Canada</td>\n",
       "      <td>Labour force</td>\n",
       "      <td>Both sexes</td>\n",
       "      <td>15 years and over</td>\n",
       "      <td>Total, all industries</td>\n",
       "      <td>19812.8</td>\n",
       "    </tr>\n",
       "    <tr>\n",
       "      <th>673201</th>\n",
       "      <td>2018</td>\n",
       "      <td>Canada</td>\n",
       "      <td>Labour force</td>\n",
       "      <td>Both sexes</td>\n",
       "      <td>15 to 24 years</td>\n",
       "      <td>Total, all industries</td>\n",
       "      <td>2756.4</td>\n",
       "    </tr>\n",
       "    <tr>\n",
       "      <th>673202</th>\n",
       "      <td>2018</td>\n",
       "      <td>Canada</td>\n",
       "      <td>Labour force</td>\n",
       "      <td>Both sexes</td>\n",
       "      <td>25 to 54 years</td>\n",
       "      <td>Total, all industries</td>\n",
       "      <td>12827.6</td>\n",
       "    </tr>\n",
       "    <tr>\n",
       "      <th>673203</th>\n",
       "      <td>2018</td>\n",
       "      <td>Canada</td>\n",
       "      <td>Labour force</td>\n",
       "      <td>Both sexes</td>\n",
       "      <td>55 years and over</td>\n",
       "      <td>Total, all industries</td>\n",
       "      <td>4228.8</td>\n",
       "    </tr>\n",
       "    <tr>\n",
       "      <th>673204</th>\n",
       "      <td>2018</td>\n",
       "      <td>Canada</td>\n",
       "      <td>Labour force</td>\n",
       "      <td>Males</td>\n",
       "      <td>15 years and over</td>\n",
       "      <td>Total, all industries</td>\n",
       "      <td>10396.2</td>\n",
       "    </tr>\n",
       "  </tbody>\n",
       "</table>\n",
       "</div>"
      ],
      "text/plain": [
       "        REF_DATE     GEO Labour force characteristics         Sex  \\\n",
       "673200      2018  Canada                 Labour force  Both sexes   \n",
       "673201      2018  Canada                 Labour force  Both sexes   \n",
       "673202      2018  Canada                 Labour force  Both sexes   \n",
       "673203      2018  Canada                 Labour force  Both sexes   \n",
       "673204      2018  Canada                 Labour force       Males   \n",
       "\n",
       "                Age group  \\\n",
       "673200  15 years and over   \n",
       "673201     15 to 24 years   \n",
       "673202     25 to 54 years   \n",
       "673203  55 years and over   \n",
       "673204  15 years and over   \n",
       "\n",
       "       North American Industry Classification System (NAICS)    VALUE  \n",
       "673200                              Total, all industries     19812.8  \n",
       "673201                              Total, all industries      2756.4  \n",
       "673202                              Total, all industries     12827.6  \n",
       "673203                              Total, all industries      4228.8  \n",
       "673204                              Total, all industries     10396.2  "
      ]
     },
     "execution_count": 12,
     "metadata": {},
     "output_type": "execute_result"
    }
   ],
   "source": [
    "df6 = df3.loc[df3[\"REF_DATE\"]==2018]\n",
    "df6.head()"
   ]
  },
  {
   "cell_type": "markdown",
   "metadata": {},
   "source": [
    "### CENTRALIZE SINGLE DATA FRAME VIEW FOR OVERALL LABOUR FORCE 1988 - 2018 "
   ]
  },
  {
   "cell_type": "code",
   "execution_count": 13,
   "metadata": {
    "scrolled": true
   },
   "outputs": [
    {
     "data": {
      "text/html": [
       "<div>\n",
       "<style scoped>\n",
       "    .dataframe tbody tr th:only-of-type {\n",
       "        vertical-align: middle;\n",
       "    }\n",
       "\n",
       "    .dataframe tbody tr th {\n",
       "        vertical-align: top;\n",
       "    }\n",
       "\n",
       "    .dataframe thead th {\n",
       "        text-align: right;\n",
       "    }\n",
       "</style>\n",
       "<table border=\"1\" class=\"dataframe\">\n",
       "  <thead>\n",
       "    <tr style=\"text-align: right;\">\n",
       "      <th></th>\n",
       "      <th>REF_DATE_1988</th>\n",
       "      <th>GEO</th>\n",
       "      <th>Labour force characteristics</th>\n",
       "      <th>Sex</th>\n",
       "      <th>Age group</th>\n",
       "      <th>North American Industry Classification System (NAICS)</th>\n",
       "      <th>VALUE_1988</th>\n",
       "      <th>REF_DATE_2018</th>\n",
       "      <th>VALUE_2018</th>\n",
       "    </tr>\n",
       "  </thead>\n",
       "  <tbody>\n",
       "    <tr>\n",
       "      <th>0</th>\n",
       "      <td>1988</td>\n",
       "      <td>Canada</td>\n",
       "      <td>Labour force</td>\n",
       "      <td>Both sexes</td>\n",
       "      <td>15 years and over</td>\n",
       "      <td>Total, all industries</td>\n",
       "      <td>13779.1</td>\n",
       "      <td>2018</td>\n",
       "      <td>19812.8</td>\n",
       "    </tr>\n",
       "    <tr>\n",
       "      <th>1</th>\n",
       "      <td>1988</td>\n",
       "      <td>Canada</td>\n",
       "      <td>Labour force</td>\n",
       "      <td>Both sexes</td>\n",
       "      <td>15 to 24 years</td>\n",
       "      <td>Total, all industries</td>\n",
       "      <td>2891.6</td>\n",
       "      <td>2018</td>\n",
       "      <td>2756.4</td>\n",
       "    </tr>\n",
       "    <tr>\n",
       "      <th>2</th>\n",
       "      <td>1988</td>\n",
       "      <td>Canada</td>\n",
       "      <td>Labour force</td>\n",
       "      <td>Both sexes</td>\n",
       "      <td>25 to 54 years</td>\n",
       "      <td>Total, all industries</td>\n",
       "      <td>9539.1</td>\n",
       "      <td>2018</td>\n",
       "      <td>12827.6</td>\n",
       "    </tr>\n",
       "    <tr>\n",
       "      <th>3</th>\n",
       "      <td>1988</td>\n",
       "      <td>Canada</td>\n",
       "      <td>Labour force</td>\n",
       "      <td>Both sexes</td>\n",
       "      <td>55 years and over</td>\n",
       "      <td>Total, all industries</td>\n",
       "      <td>1348.4</td>\n",
       "      <td>2018</td>\n",
       "      <td>4228.8</td>\n",
       "    </tr>\n",
       "    <tr>\n",
       "      <th>4</th>\n",
       "      <td>1988</td>\n",
       "      <td>Canada</td>\n",
       "      <td>Labour force</td>\n",
       "      <td>Males</td>\n",
       "      <td>15 years and over</td>\n",
       "      <td>Total, all industries</td>\n",
       "      <td>7754.3</td>\n",
       "      <td>2018</td>\n",
       "      <td>10396.2</td>\n",
       "    </tr>\n",
       "  </tbody>\n",
       "</table>\n",
       "</div>"
      ],
      "text/plain": [
       "   REF_DATE_1988     GEO Labour force characteristics         Sex  \\\n",
       "0           1988  Canada                 Labour force  Both sexes   \n",
       "1           1988  Canada                 Labour force  Both sexes   \n",
       "2           1988  Canada                 Labour force  Both sexes   \n",
       "3           1988  Canada                 Labour force  Both sexes   \n",
       "4           1988  Canada                 Labour force       Males   \n",
       "\n",
       "           Age group North American Industry Classification System (NAICS)  \\\n",
       "0  15 years and over                              Total, all industries      \n",
       "1     15 to 24 years                              Total, all industries      \n",
       "2     25 to 54 years                              Total, all industries      \n",
       "3  55 years and over                              Total, all industries      \n",
       "4  15 years and over                              Total, all industries      \n",
       "\n",
       "   VALUE_1988  REF_DATE_2018  VALUE_2018  \n",
       "0     13779.1           2018     19812.8  \n",
       "1      2891.6           2018      2756.4  \n",
       "2      9539.1           2018     12827.6  \n",
       "3      1348.4           2018      4228.8  \n",
       "4      7754.3           2018     10396.2  "
      ]
     },
     "execution_count": 13,
     "metadata": {},
     "output_type": "execute_result"
    }
   ],
   "source": [
    "test_df = pd.merge(df5,df6, on = [\"GEO\", \"Labour force characteristics\", \"Sex\",\"Age group\",\"North American Industry Classification System (NAICS)\" ], suffixes = (\"_1988\", \"_2018\"))\n",
    "test_df.head()"
   ]
  },
  {
   "cell_type": "code",
   "execution_count": 14,
   "metadata": {
    "scrolled": true
   },
   "outputs": [],
   "source": [
    "#percentage_change = ((total_2018 - total_1988)/total_2018)*100\n",
    "#percentage_change.sort_values(ascending = True)"
   ]
  },
  {
   "cell_type": "code",
   "execution_count": 15,
   "metadata": {},
   "outputs": [],
   "source": [
    "#percentage_change.sort_values(ascending=False)"
   ]
  },
  {
   "cell_type": "markdown",
   "metadata": {},
   "source": [
    "### FIND TOTAL FEMALES EMPLOYED IN CANADA - NAICS 54, 1988 - 2018"
   ]
  },
  {
   "cell_type": "code",
   "execution_count": 16,
   "metadata": {},
   "outputs": [
    {
     "data": {
      "text/html": [
       "<div>\n",
       "<style scoped>\n",
       "    .dataframe tbody tr th:only-of-type {\n",
       "        vertical-align: middle;\n",
       "    }\n",
       "\n",
       "    .dataframe tbody tr th {\n",
       "        vertical-align: top;\n",
       "    }\n",
       "\n",
       "    .dataframe thead th {\n",
       "        text-align: right;\n",
       "    }\n",
       "</style>\n",
       "<table border=\"1\" class=\"dataframe\">\n",
       "  <thead>\n",
       "    <tr style=\"text-align: right;\">\n",
       "      <th></th>\n",
       "      <th>REF_DATE</th>\n",
       "      <th>GEO</th>\n",
       "      <th>Labour force characteristics</th>\n",
       "      <th>Sex</th>\n",
       "      <th>Age group</th>\n",
       "      <th>North American Industry Classification System (NAICS)</th>\n",
       "      <th>VALUE</th>\n",
       "    </tr>\n",
       "  </thead>\n",
       "  <tbody>\n",
       "    <tr>\n",
       "      <th>596</th>\n",
       "      <td>1988</td>\n",
       "      <td>Canada</td>\n",
       "      <td>Employment</td>\n",
       "      <td>Females</td>\n",
       "      <td>15 years and over</td>\n",
       "      <td>Professional, scientific and technical service...</td>\n",
       "      <td>246.3</td>\n",
       "    </tr>\n",
       "    <tr>\n",
       "      <th>597</th>\n",
       "      <td>1988</td>\n",
       "      <td>Canada</td>\n",
       "      <td>Employment</td>\n",
       "      <td>Females</td>\n",
       "      <td>15 to 24 years</td>\n",
       "      <td>Professional, scientific and technical service...</td>\n",
       "      <td>50.0</td>\n",
       "    </tr>\n",
       "    <tr>\n",
       "      <th>598</th>\n",
       "      <td>1988</td>\n",
       "      <td>Canada</td>\n",
       "      <td>Employment</td>\n",
       "      <td>Females</td>\n",
       "      <td>25 to 54 years</td>\n",
       "      <td>Professional, scientific and technical service...</td>\n",
       "      <td>179.0</td>\n",
       "    </tr>\n",
       "    <tr>\n",
       "      <th>599</th>\n",
       "      <td>1988</td>\n",
       "      <td>Canada</td>\n",
       "      <td>Employment</td>\n",
       "      <td>Females</td>\n",
       "      <td>55 years and over</td>\n",
       "      <td>Professional, scientific and technical service...</td>\n",
       "      <td>17.2</td>\n",
       "    </tr>\n",
       "    <tr>\n",
       "      <th>23036</th>\n",
       "      <td>1989</td>\n",
       "      <td>Canada</td>\n",
       "      <td>Employment</td>\n",
       "      <td>Females</td>\n",
       "      <td>15 years and over</td>\n",
       "      <td>Professional, scientific and technical service...</td>\n",
       "      <td>259.0</td>\n",
       "    </tr>\n",
       "  </tbody>\n",
       "</table>\n",
       "</div>"
      ],
      "text/plain": [
       "       REF_DATE     GEO Labour force characteristics      Sex  \\\n",
       "596        1988  Canada                   Employment  Females   \n",
       "597        1988  Canada                   Employment  Females   \n",
       "598        1988  Canada                   Employment  Females   \n",
       "599        1988  Canada                   Employment  Females   \n",
       "23036      1989  Canada                   Employment  Females   \n",
       "\n",
       "               Age group  \\\n",
       "596    15 years and over   \n",
       "597       15 to 24 years   \n",
       "598       25 to 54 years   \n",
       "599    55 years and over   \n",
       "23036  15 years and over   \n",
       "\n",
       "      North American Industry Classification System (NAICS)  VALUE  \n",
       "596    Professional, scientific and technical service...     246.3  \n",
       "597    Professional, scientific and technical service...      50.0  \n",
       "598    Professional, scientific and technical service...     179.0  \n",
       "599    Professional, scientific and technical service...      17.2  \n",
       "23036  Professional, scientific and technical service...     259.0  "
      ]
     },
     "execution_count": 16,
     "metadata": {},
     "output_type": "execute_result"
    }
   ],
   "source": [
    "# Pull only data needed for calcualtions: NAICS: [54], Sex: Females, Labour Force: Employment, Geo: Canada\n",
    "df_NAICS_54_females = df3.loc[(df3[\"North American Industry Classification System (NAICS)\"] == \"Professional, scientific and technical services [54]\") & (df3[\"Sex\"] == 'Females')& (df3[\"Labour force characteristics\"] == 'Employment') & (df3[\"GEO\"] == 'Canada')]\n",
    "df_NAICS_54_females.dropna().head()"
   ]
  },
  {
   "cell_type": "code",
   "execution_count": 17,
   "metadata": {
    "scrolled": true
   },
   "outputs": [
    {
     "data": {
      "text/plain": [
       "REF_DATE\n",
       "1988    492.0\n",
       "1989    518.0\n",
       "1990    512.0\n",
       "1991    528.0\n",
       "1992    517.0\n",
       "Name: VALUE, dtype: float64"
      ]
     },
     "execution_count": 17,
     "metadata": {},
     "output_type": "execute_result"
    }
   ],
   "source": [
    "# Group by years to show Total Females Employed in Canada within NAICS [54] each year, 1988 - 2018\n",
    "df_NAICS_54_1988_2019_females = df_NAICS_54_females.groupby([\"REF_DATE\"]).sum()[\"VALUE\"].round()\n",
    "df_NAICS_54_1988_2019_females.head()"
   ]
  },
  {
   "cell_type": "markdown",
   "metadata": {},
   "source": [
    "### FIND TOTAL MALES EMPLOYED IN CANADA - NAICS 54, 1988 - 2018"
   ]
  },
  {
   "cell_type": "code",
   "execution_count": 18,
   "metadata": {},
   "outputs": [
    {
     "data": {
      "text/html": [
       "<div>\n",
       "<style scoped>\n",
       "    .dataframe tbody tr th:only-of-type {\n",
       "        vertical-align: middle;\n",
       "    }\n",
       "\n",
       "    .dataframe tbody tr th {\n",
       "        vertical-align: top;\n",
       "    }\n",
       "\n",
       "    .dataframe thead th {\n",
       "        text-align: right;\n",
       "    }\n",
       "</style>\n",
       "<table border=\"1\" class=\"dataframe\">\n",
       "  <thead>\n",
       "    <tr style=\"text-align: right;\">\n",
       "      <th></th>\n",
       "      <th>REF_DATE</th>\n",
       "      <th>GEO</th>\n",
       "      <th>Labour force characteristics</th>\n",
       "      <th>Sex</th>\n",
       "      <th>Age group</th>\n",
       "      <th>North American Industry Classification System (NAICS)</th>\n",
       "      <th>VALUE</th>\n",
       "    </tr>\n",
       "  </thead>\n",
       "  <tbody>\n",
       "    <tr>\n",
       "      <th>592</th>\n",
       "      <td>1988</td>\n",
       "      <td>Canada</td>\n",
       "      <td>Employment</td>\n",
       "      <td>Males</td>\n",
       "      <td>15 years and over</td>\n",
       "      <td>Professional, scientific and technical service...</td>\n",
       "      <td>290.3</td>\n",
       "    </tr>\n",
       "    <tr>\n",
       "      <th>593</th>\n",
       "      <td>1988</td>\n",
       "      <td>Canada</td>\n",
       "      <td>Employment</td>\n",
       "      <td>Males</td>\n",
       "      <td>15 to 24 years</td>\n",
       "      <td>Professional, scientific and technical service...</td>\n",
       "      <td>38.6</td>\n",
       "    </tr>\n",
       "    <tr>\n",
       "      <th>594</th>\n",
       "      <td>1988</td>\n",
       "      <td>Canada</td>\n",
       "      <td>Employment</td>\n",
       "      <td>Males</td>\n",
       "      <td>25 to 54 years</td>\n",
       "      <td>Professional, scientific and technical service...</td>\n",
       "      <td>220.7</td>\n",
       "    </tr>\n",
       "    <tr>\n",
       "      <th>595</th>\n",
       "      <td>1988</td>\n",
       "      <td>Canada</td>\n",
       "      <td>Employment</td>\n",
       "      <td>Males</td>\n",
       "      <td>55 years and over</td>\n",
       "      <td>Professional, scientific and technical service...</td>\n",
       "      <td>31.1</td>\n",
       "    </tr>\n",
       "    <tr>\n",
       "      <th>23032</th>\n",
       "      <td>1989</td>\n",
       "      <td>Canada</td>\n",
       "      <td>Employment</td>\n",
       "      <td>Males</td>\n",
       "      <td>15 years and over</td>\n",
       "      <td>Professional, scientific and technical service...</td>\n",
       "      <td>302.7</td>\n",
       "    </tr>\n",
       "  </tbody>\n",
       "</table>\n",
       "</div>"
      ],
      "text/plain": [
       "       REF_DATE     GEO Labour force characteristics    Sex  \\\n",
       "592        1988  Canada                   Employment  Males   \n",
       "593        1988  Canada                   Employment  Males   \n",
       "594        1988  Canada                   Employment  Males   \n",
       "595        1988  Canada                   Employment  Males   \n",
       "23032      1989  Canada                   Employment  Males   \n",
       "\n",
       "               Age group  \\\n",
       "592    15 years and over   \n",
       "593       15 to 24 years   \n",
       "594       25 to 54 years   \n",
       "595    55 years and over   \n",
       "23032  15 years and over   \n",
       "\n",
       "      North American Industry Classification System (NAICS)  VALUE  \n",
       "592    Professional, scientific and technical service...     290.3  \n",
       "593    Professional, scientific and technical service...      38.6  \n",
       "594    Professional, scientific and technical service...     220.7  \n",
       "595    Professional, scientific and technical service...      31.1  \n",
       "23032  Professional, scientific and technical service...     302.7  "
      ]
     },
     "execution_count": 18,
     "metadata": {},
     "output_type": "execute_result"
    }
   ],
   "source": [
    "# Pull only data needed for calcualtions: NAICS: [54], Sex: Males, Labour Force: Employment, Geo: Canada\n",
    "df_NAICS_54_males = df3[(df3[\"North American Industry Classification System (NAICS)\"] == \"Professional, scientific and technical services [54]\") & (df3[\"Sex\"] == 'Males')& (df3[\"Labour force characteristics\"] == 'Employment') & (df3[\"GEO\"] == 'Canada')]\n",
    "df_NAICS_54_males.dropna().head()"
   ]
  },
  {
   "cell_type": "code",
   "execution_count": 19,
   "metadata": {},
   "outputs": [
    {
     "data": {
      "text/plain": [
       "REF_DATE\n",
       "1988    581.0\n",
       "1989    605.0\n",
       "1990    643.0\n",
       "1991    679.0\n",
       "1992    663.0\n",
       "Name: VALUE, dtype: float64"
      ]
     },
     "execution_count": 19,
     "metadata": {},
     "output_type": "execute_result"
    }
   ],
   "source": [
    "# Group by years to show Total Males Employed within NAICS [54] each year, 1988 - 2018\n",
    "df_NAICS_54_1988_2019_males = df_NAICS_54_males.groupby([\"REF_DATE\"]).sum()[\"VALUE\"].round()\n",
    "df_NAICS_54_1988_2019_males.head()"
   ]
  },
  {
   "cell_type": "code",
   "execution_count": 20,
   "metadata": {},
   "outputs": [
    {
     "data": {
      "text/html": [
       "<div>\n",
       "<style scoped>\n",
       "    .dataframe tbody tr th:only-of-type {\n",
       "        vertical-align: middle;\n",
       "    }\n",
       "\n",
       "    .dataframe tbody tr th {\n",
       "        vertical-align: top;\n",
       "    }\n",
       "\n",
       "    .dataframe thead th {\n",
       "        text-align: right;\n",
       "    }\n",
       "</style>\n",
       "<table border=\"1\" class=\"dataframe\">\n",
       "  <thead>\n",
       "    <tr style=\"text-align: right;\">\n",
       "      <th></th>\n",
       "      <th>Males Employed</th>\n",
       "      <th>Females Employed</th>\n",
       "    </tr>\n",
       "    <tr>\n",
       "      <th>REF_DATE</th>\n",
       "      <th></th>\n",
       "      <th></th>\n",
       "    </tr>\n",
       "  </thead>\n",
       "  <tbody>\n",
       "    <tr>\n",
       "      <th>1988</th>\n",
       "      <td>581.0</td>\n",
       "      <td>492.0</td>\n",
       "    </tr>\n",
       "    <tr>\n",
       "      <th>1989</th>\n",
       "      <td>605.0</td>\n",
       "      <td>518.0</td>\n",
       "    </tr>\n",
       "    <tr>\n",
       "      <th>1990</th>\n",
       "      <td>643.0</td>\n",
       "      <td>512.0</td>\n",
       "    </tr>\n",
       "    <tr>\n",
       "      <th>1991</th>\n",
       "      <td>679.0</td>\n",
       "      <td>528.0</td>\n",
       "    </tr>\n",
       "    <tr>\n",
       "      <th>1992</th>\n",
       "      <td>663.0</td>\n",
       "      <td>517.0</td>\n",
       "    </tr>\n",
       "  </tbody>\n",
       "</table>\n",
       "</div>"
      ],
      "text/plain": [
       "          Males Employed  Females Employed\n",
       "REF_DATE                                  \n",
       "1988               581.0             492.0\n",
       "1989               605.0             518.0\n",
       "1990               643.0             512.0\n",
       "1991               679.0             528.0\n",
       "1992               663.0             517.0"
      ]
     },
     "execution_count": 20,
     "metadata": {},
     "output_type": "execute_result"
    }
   ],
   "source": [
    "# Create Data Frame to hold new values \n",
    "Yearly_Employment_NAICS54_1988_2018_bySex = pd.DataFrame({\n",
    "    \"Males Employed\": df_NAICS_54_1988_2019_males,\n",
    "    \"Females Employed\": df_NAICS_54_1988_2019_females\n",
    "})\n",
    "Yearly_Employment_NAICS54_1988_2018_bySex.head()"
   ]
  },
  {
   "cell_type": "code",
   "execution_count": 21,
   "metadata": {
    "scrolled": false
   },
   "outputs": [
    {
     "data": {
      "text/html": [
       "<div>\n",
       "<style scoped>\n",
       "    .dataframe tbody tr th:only-of-type {\n",
       "        vertical-align: middle;\n",
       "    }\n",
       "\n",
       "    .dataframe tbody tr th {\n",
       "        vertical-align: top;\n",
       "    }\n",
       "\n",
       "    .dataframe thead th {\n",
       "        text-align: right;\n",
       "    }\n",
       "</style>\n",
       "<table border=\"1\" class=\"dataframe\">\n",
       "  <thead>\n",
       "    <tr style=\"text-align: right;\">\n",
       "      <th></th>\n",
       "      <th>Males Employed</th>\n",
       "      <th>Females Employed</th>\n",
       "    </tr>\n",
       "    <tr>\n",
       "      <th>REF_DATE</th>\n",
       "      <th></th>\n",
       "      <th></th>\n",
       "    </tr>\n",
       "  </thead>\n",
       "  <tbody>\n",
       "    <tr>\n",
       "      <th>1988</th>\n",
       "      <td>0.000000</td>\n",
       "      <td>0.000000</td>\n",
       "    </tr>\n",
       "    <tr>\n",
       "      <th>1989</th>\n",
       "      <td>0.041308</td>\n",
       "      <td>0.052846</td>\n",
       "    </tr>\n",
       "    <tr>\n",
       "      <th>1990</th>\n",
       "      <td>0.062810</td>\n",
       "      <td>-0.011583</td>\n",
       "    </tr>\n",
       "    <tr>\n",
       "      <th>1991</th>\n",
       "      <td>0.055988</td>\n",
       "      <td>0.031250</td>\n",
       "    </tr>\n",
       "    <tr>\n",
       "      <th>1992</th>\n",
       "      <td>-0.023564</td>\n",
       "      <td>-0.020833</td>\n",
       "    </tr>\n",
       "  </tbody>\n",
       "</table>\n",
       "</div>"
      ],
      "text/plain": [
       "          Males Employed  Females Employed\n",
       "REF_DATE                                  \n",
       "1988            0.000000          0.000000\n",
       "1989            0.041308          0.052846\n",
       "1990            0.062810         -0.011583\n",
       "1991            0.055988          0.031250\n",
       "1992           -0.023564         -0.020833"
      ]
     },
     "execution_count": 21,
     "metadata": {},
     "output_type": "execute_result"
    }
   ],
   "source": [
    "#Find percentage change YoY\n",
    "Yearly_Employment_NAICS54_1988_2018_bySex.pct_change().fillna(0).head()"
   ]
  },
  {
   "cell_type": "code",
   "execution_count": 22,
   "metadata": {},
   "outputs": [
    {
     "data": {
      "text/plain": [
       "Males Employed      0.093596\n",
       "Females Employed    0.111773\n",
       "dtype: float64"
      ]
     },
     "execution_count": 22,
     "metadata": {},
     "output_type": "execute_result"
    }
   ],
   "source": [
    "#Find Max Change & Find Corresponding Years\n",
    "Yearly_Employment_NAICS54_1988_2018_bySex.pct_change().max()"
   ]
  },
  {
   "cell_type": "markdown",
   "metadata": {},
   "source": [
    "### CREATE GRAPH TO SHOW GROWTH IN EMPLOYMENT RATE BY GENDER"
   ]
  },
  {
   "cell_type": "code",
   "execution_count": 33,
   "metadata": {
    "scrolled": false
   },
   "outputs": [
    {
     "data": {
      "image/png": "[encoded data removed]",
      "text/plain": [
       "<Figure size 720x720 with 1 Axes>"
      ]
     },
     "metadata": {
      "needs_background": "light"
     },
     "output_type": "display_data"
    }
   ],
   "source": [
    "# Plot data into bar graph and label \n",
    "Yearly_Employment_NAICS54_1988_2018_bySex.plot(kind='line', figsize=(10,10))\n",
    "plt.title(\"MALE & FEMALE EMPLOYMENT GROWTH, NAICS [54], CANADA, 1988  - 2018\")\n",
    "plt.xlabel(\"YEARS\")\n",
    "plt.ylabel(\"NUMBER EMPLOYED\")\n",
    "plt.xticks(np.arange(1988, 2020, 5)) \n",
    "plt.yticks(np.arange(300, 2000, 300)) \n",
    "plt.savefig(\"MALE & FEMALE EMPLOYMENT GROWTH, NAICS [54], CANADA, 1988  - 2018.png\")\n",
    "plt.show()"
   ]
  },
  {
   "cell_type": "markdown",
   "metadata": {},
   "source": [
    "### FIND TOTAL EMPLOYED BY PROVINCE - NAICS 54, 1988 - 2018"
   ]
  },
  {
   "cell_type": "code",
   "execution_count": 30,
   "metadata": {},
   "outputs": [
    {
     "data": {
      "text/html": [
       "<div>\n",
       "<style scoped>\n",
       "    .dataframe tbody tr th:only-of-type {\n",
       "        vertical-align: middle;\n",
       "    }\n",
       "\n",
       "    .dataframe tbody tr th {\n",
       "        vertical-align: top;\n",
       "    }\n",
       "\n",
       "    .dataframe thead th {\n",
       "        text-align: right;\n",
       "    }\n",
       "</style>\n",
       "<table border=\"1\" class=\"dataframe\">\n",
       "  <thead>\n",
       "    <tr style=\"text-align: right;\">\n",
       "      <th></th>\n",
       "      <th>REF_DATE</th>\n",
       "      <th>GEO</th>\n",
       "      <th>Labour force characteristics</th>\n",
       "      <th>Sex</th>\n",
       "      <th>Age group</th>\n",
       "      <th>North American Industry Classification System (NAICS)</th>\n",
       "      <th>VALUE</th>\n",
       "    </tr>\n",
       "  </thead>\n",
       "  <tbody>\n",
       "    <tr>\n",
       "      <th>2628</th>\n",
       "      <td>1988</td>\n",
       "      <td>Newfoundland and Labrador</td>\n",
       "      <td>Employment</td>\n",
       "      <td>Both sexes</td>\n",
       "      <td>15 years and over</td>\n",
       "      <td>Professional, scientific and technical service...</td>\n",
       "      <td>5.4</td>\n",
       "    </tr>\n",
       "    <tr>\n",
       "      <th>2629</th>\n",
       "      <td>1988</td>\n",
       "      <td>Newfoundland and Labrador</td>\n",
       "      <td>Employment</td>\n",
       "      <td>Both sexes</td>\n",
       "      <td>15 to 24 years</td>\n",
       "      <td>Professional, scientific and technical service...</td>\n",
       "      <td>0.7</td>\n",
       "    </tr>\n",
       "    <tr>\n",
       "      <th>2630</th>\n",
       "      <td>1988</td>\n",
       "      <td>Newfoundland and Labrador</td>\n",
       "      <td>Employment</td>\n",
       "      <td>Both sexes</td>\n",
       "      <td>25 to 54 years</td>\n",
       "      <td>Professional, scientific and technical service...</td>\n",
       "      <td>4.3</td>\n",
       "    </tr>\n",
       "    <tr>\n",
       "      <th>4668</th>\n",
       "      <td>1988</td>\n",
       "      <td>Prince Edward Island</td>\n",
       "      <td>Employment</td>\n",
       "      <td>Both sexes</td>\n",
       "      <td>15 years and over</td>\n",
       "      <td>Professional, scientific and technical service...</td>\n",
       "      <td>1.1</td>\n",
       "    </tr>\n",
       "    <tr>\n",
       "      <th>4669</th>\n",
       "      <td>1988</td>\n",
       "      <td>Prince Edward Island</td>\n",
       "      <td>Employment</td>\n",
       "      <td>Both sexes</td>\n",
       "      <td>15 to 24 years</td>\n",
       "      <td>Professional, scientific and technical service...</td>\n",
       "      <td>0.3</td>\n",
       "    </tr>\n",
       "  </tbody>\n",
       "</table>\n",
       "</div>"
      ],
      "text/plain": [
       "      REF_DATE                        GEO Labour force characteristics  \\\n",
       "2628      1988  Newfoundland and Labrador                   Employment   \n",
       "2629      1988  Newfoundland and Labrador                   Employment   \n",
       "2630      1988  Newfoundland and Labrador                   Employment   \n",
       "4668      1988       Prince Edward Island                   Employment   \n",
       "4669      1988       Prince Edward Island                   Employment   \n",
       "\n",
       "             Sex          Age group  \\\n",
       "2628  Both sexes  15 years and over   \n",
       "2629  Both sexes     15 to 24 years   \n",
       "2630  Both sexes     25 to 54 years   \n",
       "4668  Both sexes  15 years and over   \n",
       "4669  Both sexes     15 to 24 years   \n",
       "\n",
       "     North American Industry Classification System (NAICS)  VALUE  \n",
       "2628  Professional, scientific and technical service...       5.4  \n",
       "2629  Professional, scientific and technical service...       0.7  \n",
       "2630  Professional, scientific and technical service...       4.3  \n",
       "4668  Professional, scientific and technical service...       1.1  \n",
       "4669  Professional, scientific and technical service...       0.3  "
      ]
     },
     "execution_count": 30,
     "metadata": {},
     "output_type": "execute_result"
    }
   ],
   "source": [
    "# Pull only data needed for calcualtions: NAICS: [54], Both Sexes, Labour Force: Employment, Geo: All provinces\n",
    "df_NAICS_54_GEO = df3.loc[(df3[\"North American Industry Classification System (NAICS)\"] == \"Professional, scientific and technical services [54]\") & (df3[\"Sex\"] == 'Both sexes')& (df3[\"Labour force characteristics\"] == 'Employment') & (df3[\"GEO\"] != 'Canada')]\n",
    "df_NAICS_54_GEO.dropna().head()"
   ]
  },
  {
   "cell_type": "code",
   "execution_count": 31,
   "metadata": {},
   "outputs": [
    {
     "data": {
      "text/html": [
       "<div>\n",
       "<style scoped>\n",
       "    .dataframe tbody tr th:only-of-type {\n",
       "        vertical-align: middle;\n",
       "    }\n",
       "\n",
       "    .dataframe tbody tr th {\n",
       "        vertical-align: top;\n",
       "    }\n",
       "\n",
       "    .dataframe thead th {\n",
       "        text-align: right;\n",
       "    }\n",
       "</style>\n",
       "<table border=\"1\" class=\"dataframe\">\n",
       "  <thead>\n",
       "    <tr style=\"text-align: right;\">\n",
       "      <th></th>\n",
       "      <th></th>\n",
       "      <th>VALUE</th>\n",
       "    </tr>\n",
       "    <tr>\n",
       "      <th>REF_DATE</th>\n",
       "      <th>GEO</th>\n",
       "      <th></th>\n",
       "    </tr>\n",
       "  </thead>\n",
       "  <tbody>\n",
       "    <tr>\n",
       "      <th rowspan=\"5\" valign=\"top\">1988</th>\n",
       "      <th>Alberta</th>\n",
       "      <td>114.0</td>\n",
       "    </tr>\n",
       "    <tr>\n",
       "      <th>British Columbia</th>\n",
       "      <td>155.0</td>\n",
       "    </tr>\n",
       "    <tr>\n",
       "      <th>Manitoba</th>\n",
       "      <td>28.0</td>\n",
       "    </tr>\n",
       "    <tr>\n",
       "      <th>New Brunswick</th>\n",
       "      <td>14.0</td>\n",
       "    </tr>\n",
       "    <tr>\n",
       "      <th>Newfoundland and Labrador</th>\n",
       "      <td>10.0</td>\n",
       "    </tr>\n",
       "  </tbody>\n",
       "</table>\n",
       "</div>"
      ],
      "text/plain": [
       "                                    VALUE\n",
       "REF_DATE GEO                             \n",
       "1988     Alberta                    114.0\n",
       "         British Columbia           155.0\n",
       "         Manitoba                    28.0\n",
       "         New Brunswick               14.0\n",
       "         Newfoundland and Labrador   10.0"
      ]
     },
     "execution_count": 31,
     "metadata": {},
     "output_type": "execute_result"
    }
   ],
   "source": [
    "# Group by years and GEO to show Total Employed within NAICS [54] each year, 1988 - 2018\n",
    "df_NAICS_54_1988_2019_GEO = df_NAICS_54_GEO.groupby([\"REF_DATE\",\"GEO\"]).sum()[\"VALUE\"].round()\n",
    "Yearly_Employment_NAICS54_1988_2018_byProvinces = pd.DataFrame(df_NAICS_54_1988_2019_GEO)\n",
    "Yearly_Employment_NAICS54_1988_2018_byProvinces.head()"
   ]
  },
  {
   "cell_type": "code",
   "execution_count": 32,
   "metadata": {},
   "outputs": [
    {
     "data": {
      "image/png": "[encoded data removed]",
      "text/plain": [
       "<Figure size 720x720 with 1 Axes>"
      ]
     },
     "metadata": {
      "needs_background": "light"
     },
     "output_type": "display_data"
    }
   ],
   "source": [
    "# Create and label graph\n",
    "pltGEO = Yearly_Employment_NAICS54_1988_2018_byProvinces[\"VALUE\"].unstack().plot(kind='line', figsize=(10,10))\n",
    "plt.title(\"PROVINCIAL LABOUR GROWTH, NAICS [54], CANADA, 1988  - 2018\")\n",
    "plt.xlabel(\"YEARS\")\n",
    "plt.ylabel(\"NUMBER EMPLOYED\")\n",
    "plt.xticks(np.arange(1988, 2020, 5)) \n",
    "plt.yticks(np.arange(-20, 1300, 300)) \n",
    "plt.savefig(\"PROVINCIAL LABOUR GROWTH, NAICS [54], CANADA, 1988  - 2018.png\")\n",
    "plt.show()"
   ]
  },
  {
   "cell_type": "markdown",
   "metadata": {},
   "source": [
    "### FIND TOTAL EMPLOYED BY AGE GROUP - NAICS 54, 1988 - 2018"
   ]
  },
  {
   "cell_type": "code",
   "execution_count": 34,
   "metadata": {
    "scrolled": true
   },
   "outputs": [
    {
     "data": {
      "text/html": [
       "<div>\n",
       "<style scoped>\n",
       "    .dataframe tbody tr th:only-of-type {\n",
       "        vertical-align: middle;\n",
       "    }\n",
       "\n",
       "    .dataframe tbody tr th {\n",
       "        vertical-align: top;\n",
       "    }\n",
       "\n",
       "    .dataframe thead th {\n",
       "        text-align: right;\n",
       "    }\n",
       "</style>\n",
       "<table border=\"1\" class=\"dataframe\">\n",
       "  <thead>\n",
       "    <tr style=\"text-align: right;\">\n",
       "      <th></th>\n",
       "      <th>REF_DATE</th>\n",
       "      <th>GEO</th>\n",
       "      <th>Labour force characteristics</th>\n",
       "      <th>Sex</th>\n",
       "      <th>Age group</th>\n",
       "      <th>North American Industry Classification System (NAICS)</th>\n",
       "      <th>VALUE</th>\n",
       "    </tr>\n",
       "  </thead>\n",
       "  <tbody>\n",
       "    <tr>\n",
       "      <th>2628</th>\n",
       "      <td>1988</td>\n",
       "      <td>Newfoundland and Labrador</td>\n",
       "      <td>Employment</td>\n",
       "      <td>Both sexes</td>\n",
       "      <td>15 years and over</td>\n",
       "      <td>Professional, scientific and technical service...</td>\n",
       "      <td>5.4</td>\n",
       "    </tr>\n",
       "    <tr>\n",
       "      <th>2629</th>\n",
       "      <td>1988</td>\n",
       "      <td>Newfoundland and Labrador</td>\n",
       "      <td>Employment</td>\n",
       "      <td>Both sexes</td>\n",
       "      <td>15 to 24 years</td>\n",
       "      <td>Professional, scientific and technical service...</td>\n",
       "      <td>0.7</td>\n",
       "    </tr>\n",
       "    <tr>\n",
       "      <th>2630</th>\n",
       "      <td>1988</td>\n",
       "      <td>Newfoundland and Labrador</td>\n",
       "      <td>Employment</td>\n",
       "      <td>Both sexes</td>\n",
       "      <td>25 to 54 years</td>\n",
       "      <td>Professional, scientific and technical service...</td>\n",
       "      <td>4.3</td>\n",
       "    </tr>\n",
       "    <tr>\n",
       "      <th>4668</th>\n",
       "      <td>1988</td>\n",
       "      <td>Prince Edward Island</td>\n",
       "      <td>Employment</td>\n",
       "      <td>Both sexes</td>\n",
       "      <td>15 years and over</td>\n",
       "      <td>Professional, scientific and technical service...</td>\n",
       "      <td>1.1</td>\n",
       "    </tr>\n",
       "    <tr>\n",
       "      <th>4669</th>\n",
       "      <td>1988</td>\n",
       "      <td>Prince Edward Island</td>\n",
       "      <td>Employment</td>\n",
       "      <td>Both sexes</td>\n",
       "      <td>15 to 24 years</td>\n",
       "      <td>Professional, scientific and technical service...</td>\n",
       "      <td>0.3</td>\n",
       "    </tr>\n",
       "  </tbody>\n",
       "</table>\n",
       "</div>"
      ],
      "text/plain": [
       "      REF_DATE                        GEO Labour force characteristics  \\\n",
       "2628      1988  Newfoundland and Labrador                   Employment   \n",
       "2629      1988  Newfoundland and Labrador                   Employment   \n",
       "2630      1988  Newfoundland and Labrador                   Employment   \n",
       "4668      1988       Prince Edward Island                   Employment   \n",
       "4669      1988       Prince Edward Island                   Employment   \n",
       "\n",
       "             Sex          Age group  \\\n",
       "2628  Both sexes  15 years and over   \n",
       "2629  Both sexes     15 to 24 years   \n",
       "2630  Both sexes     25 to 54 years   \n",
       "4668  Both sexes  15 years and over   \n",
       "4669  Both sexes     15 to 24 years   \n",
       "\n",
       "     North American Industry Classification System (NAICS)  VALUE  \n",
       "2628  Professional, scientific and technical service...       5.4  \n",
       "2629  Professional, scientific and technical service...       0.7  \n",
       "2630  Professional, scientific and technical service...       4.3  \n",
       "4668  Professional, scientific and technical service...       1.1  \n",
       "4669  Professional, scientific and technical service...       0.3  "
      ]
     },
     "execution_count": 34,
     "metadata": {},
     "output_type": "execute_result"
    }
   ],
   "source": [
    "# Pull only data needed for calcualtions: NAICS: [54], Both Sexes, Labour Force: Employment, Geo: Canada\n",
    "df_NAICS_54_AGE = df3.loc[(df3[\"North American Industry Classification System (NAICS)\"] == \"Professional, scientific and technical services [54]\") & (df3[\"Sex\"] == 'Both sexes')& (df3[\"Labour force characteristics\"] == 'Employment') & (df3[\"Age group\"] != \"15 years and over\") & (df3[\"GEO\"] == 'Canada')]\n",
    "df_NAICS_54_GEO.dropna().head()"
   ]
  },
  {
   "cell_type": "code",
   "execution_count": 35,
   "metadata": {},
   "outputs": [
    {
     "data": {
      "text/html": [
       "<div>\n",
       "<style scoped>\n",
       "    .dataframe tbody tr th:only-of-type {\n",
       "        vertical-align: middle;\n",
       "    }\n",
       "\n",
       "    .dataframe tbody tr th {\n",
       "        vertical-align: top;\n",
       "    }\n",
       "\n",
       "    .dataframe thead th {\n",
       "        text-align: right;\n",
       "    }\n",
       "</style>\n",
       "<table border=\"1\" class=\"dataframe\">\n",
       "  <thead>\n",
       "    <tr style=\"text-align: right;\">\n",
       "      <th></th>\n",
       "      <th></th>\n",
       "      <th>VALUE</th>\n",
       "    </tr>\n",
       "    <tr>\n",
       "      <th>REF_DATE</th>\n",
       "      <th>Age group</th>\n",
       "      <th></th>\n",
       "    </tr>\n",
       "  </thead>\n",
       "  <tbody>\n",
       "    <tr>\n",
       "      <th rowspan=\"3\" valign=\"top\">1988</th>\n",
       "      <th>15 to 24 years</th>\n",
       "      <td>89.0</td>\n",
       "    </tr>\n",
       "    <tr>\n",
       "      <th>25 to 54 years</th>\n",
       "      <td>400.0</td>\n",
       "    </tr>\n",
       "    <tr>\n",
       "      <th>55 years and over</th>\n",
       "      <td>48.0</td>\n",
       "    </tr>\n",
       "    <tr>\n",
       "      <th rowspan=\"2\" valign=\"top\">1989</th>\n",
       "      <th>15 to 24 years</th>\n",
       "      <td>88.0</td>\n",
       "    </tr>\n",
       "    <tr>\n",
       "      <th>25 to 54 years</th>\n",
       "      <td>424.0</td>\n",
       "    </tr>\n",
       "  </tbody>\n",
       "</table>\n",
       "</div>"
      ],
      "text/plain": [
       "                            VALUE\n",
       "REF_DATE Age group               \n",
       "1988     15 to 24 years      89.0\n",
       "         25 to 54 years     400.0\n",
       "         55 years and over   48.0\n",
       "1989     15 to 24 years      88.0\n",
       "         25 to 54 years     424.0"
      ]
     },
     "execution_count": 35,
     "metadata": {},
     "output_type": "execute_result"
    }
   ],
   "source": [
    "# Group by years and AGE to show Total Employers within NAICS [54] each year, 1988 - 2018\n",
    "df_NAICS_54_1988_2019_AGE = df_NAICS_54_AGE.groupby([\"REF_DATE\",\"Age group\"]).sum()[\"VALUE\"].round()\n",
    "Yearly_Employment_NAICS54_1988_2018_byAGE = pd.DataFrame(df_NAICS_54_1988_2019_AGE)\n",
    "Yearly_Employment_NAICS54_1988_2018_byAGE.head()"
   ]
  },
  {
   "cell_type": "code",
   "execution_count": 36,
   "metadata": {
    "scrolled": false
   },
   "outputs": [
    {
     "data": {
      "image/png": "[encoded data removed]",
      "text/plain": [
       "<Figure size 720x720 with 1 Axes>"
      ]
     },
     "metadata": {
      "needs_background": "light"
     },
     "output_type": "display_data"
    }
   ],
   "source": [
    "# Create & label graph\n",
    "pltAGE = Yearly_Employment_NAICS54_1988_2018_byAGE[\"VALUE\"].unstack().plot(kind='bar',stacked=True, figsize=(10,10))\n",
    "plt.title(\"AGE GROUP GROWTH, NAICS [54], CANADA, 1988  - 2018\")\n",
    "plt.xlabel(\"YEARS\")\n",
    "plt.ylabel(\"EMPLOYED\")\n",
    "plt.savefig(\"AGE GROUP GROWTH, NAICS [54], CANADA, 1988  - 2018.png\")\n",
    "plt.show()"
   ]
  },
  {
   "cell_type": "markdown",
   "metadata": {},
   "source": [
    "### FURTHER GENDER ANALYSIS FOR NAICS [54] 1988 - 2018 "
   ]
  },
  {
   "cell_type": "code",
   "execution_count": 27,
   "metadata": {},
   "outputs": [
    {
     "data": {
      "text/plain": [
       "REF_DATE\n",
       "1988    1073.0\n",
       "1989    1123.0\n",
       "1990    1155.0\n",
       "1991    1207.0\n",
       "1992    1180.0\n",
       "Name: VALUE, dtype: float64"
      ]
     },
     "execution_count": 27,
     "metadata": {},
     "output_type": "execute_result"
    }
   ],
   "source": [
    "#Find total NAICS [54] employed from 1988 - 2018 \n",
    "total_employed_NAICS_54_1988_2018 = df_NAICS_54_1988_2019_males + df_NAICS_54_1988_2019_females\n",
    "total_employed_NAICS_54_1988_2018.head()"
   ]
  },
  {
   "cell_type": "code",
   "execution_count": 28,
   "metadata": {},
   "outputs": [
    {
     "data": {
      "text/plain": [
       "REF_DATE\n",
       "1988    54.0\n",
       "1989    54.0\n",
       "1990    56.0\n",
       "1991    56.0\n",
       "1992    56.0\n",
       "Name: VALUE, dtype: float64"
      ]
     },
     "execution_count": 28,
     "metadata": {},
     "output_type": "execute_result"
    }
   ],
   "source": [
    "# Find the percent of males employed in NAICS [54] fom 1988 - 2018\n",
    "percent_male_employed_NAICS_54_1988_2018 = (df_NAICS_54_1988_2019_males/total_employed_NAICS_54_1988_2018)*100\n",
    "percent_male_employed_NAICS_54_1988_2018.round().head()"
   ]
  },
  {
   "cell_type": "code",
   "execution_count": 29,
   "metadata": {},
   "outputs": [
    {
     "data": {
      "text/plain": [
       "REF_DATE\n",
       "1988    54.15%\n",
       "1989    53.87%\n",
       "1990    55.67%\n",
       "1991    56.26%\n",
       "1992    56.19%\n",
       "Name: VALUE, dtype: object"
      ]
     },
     "execution_count": 29,
     "metadata": {},
     "output_type": "execute_result"
    }
   ],
   "source": [
    "# Format for percentages of males employed in NAICS [54] 1988 - 2018\n",
    "percent_male_employed_NAICS_54_1988_2018.map(\"{0:,.2f}%\".format).head()"
   ]
  },
  {
   "cell_type": "code",
   "execution_count": 30,
   "metadata": {},
   "outputs": [
    {
     "data": {
      "text/plain": [
       "56.58746131253104"
      ]
     },
     "execution_count": 30,
     "metadata": {},
     "output_type": "execute_result"
    }
   ],
   "source": [
    "# Find the average percentage of Males Employed within NAICS [54] from 1988 - 2018\n",
    "percent_male_employed_NAICS_54_1988_2018.mean()"
   ]
  },
  {
   "cell_type": "code",
   "execution_count": 31,
   "metadata": {},
   "outputs": [
    {
     "data": {
      "text/plain": [
       "REF_DATE\n",
       "1988    46.0\n",
       "1989    46.0\n",
       "1990    44.0\n",
       "1991    44.0\n",
       "1992    44.0\n",
       "Name: VALUE, dtype: float64"
      ]
     },
     "execution_count": 31,
     "metadata": {},
     "output_type": "execute_result"
    }
   ],
   "source": [
    "# Find the percent of females employed in NAICS [54] fom 1988 - 2018\n",
    "percent_female_employed_NAICS_54_1988_2018 = (df_NAICS_54_1988_2019_females/total_employed_NAICS_54_1988_2018)*100\n",
    "percent_female_employed_NAICS_54_1988_2018.round().head()"
   ]
  },
  {
   "cell_type": "code",
   "execution_count": 32,
   "metadata": {},
   "outputs": [
    {
     "data": {
      "text/plain": [
       "REF_DATE\n",
       "1988    45.85%\n",
       "1989    46.13%\n",
       "1990    44.33%\n",
       "1991    43.74%\n",
       "1992    43.81%\n",
       "Name: VALUE, dtype: object"
      ]
     },
     "execution_count": 32,
     "metadata": {},
     "output_type": "execute_result"
    }
   ],
   "source": [
    "# Format for percentages of females employed in NAICS [54] 1988 - 2018\n",
    "percent_female_employed_NAICS_54_1988_2018.map(\"{0:,.2f}%\".format).head()"
   ]
  },
  {
   "cell_type": "code",
   "execution_count": 33,
   "metadata": {},
   "outputs": [
    {
     "data": {
      "text/plain": [
       "43.41253868746895"
      ]
     },
     "execution_count": 33,
     "metadata": {},
     "output_type": "execute_result"
    }
   ],
   "source": [
    "# Find the average percentage of Females Employed within NAICS [54] from 1988 - 2018\n",
    "percent_female_employed_NAICS_54_1988_2018.mean()"
   ]
  },
  {
   "cell_type": "code",
   "execution_count": 48,
   "metadata": {},
   "outputs": [
    {
     "data": {
      "text/html": [
       "<div>\n",
       "<style scoped>\n",
       "    .dataframe tbody tr th:only-of-type {\n",
       "        vertical-align: middle;\n",
       "    }\n",
       "\n",
       "    .dataframe tbody tr th {\n",
       "        vertical-align: top;\n",
       "    }\n",
       "\n",
       "    .dataframe thead th {\n",
       "        text-align: right;\n",
       "    }\n",
       "</style>\n",
       "<table border=\"1\" class=\"dataframe\">\n",
       "  <thead>\n",
       "    <tr style=\"text-align: right;\">\n",
       "      <th></th>\n",
       "      <th>Males Employed</th>\n",
       "      <th>Females Employed</th>\n",
       "      <th>% Males Employed</th>\n",
       "      <th>% Females Employed</th>\n",
       "    </tr>\n",
       "    <tr>\n",
       "      <th>REF_DATE</th>\n",
       "      <th></th>\n",
       "      <th></th>\n",
       "      <th></th>\n",
       "      <th></th>\n",
       "    </tr>\n",
       "  </thead>\n",
       "  <tbody>\n",
       "    <tr>\n",
       "      <th>1988</th>\n",
       "      <td>581.0</td>\n",
       "      <td>492.0</td>\n",
       "      <td>54.147251</td>\n",
       "      <td>45.852749</td>\n",
       "    </tr>\n",
       "    <tr>\n",
       "      <th>1989</th>\n",
       "      <td>605.0</td>\n",
       "      <td>518.0</td>\n",
       "      <td>53.873553</td>\n",
       "      <td>46.126447</td>\n",
       "    </tr>\n",
       "    <tr>\n",
       "      <th>1990</th>\n",
       "      <td>643.0</td>\n",
       "      <td>512.0</td>\n",
       "      <td>55.670996</td>\n",
       "      <td>44.329004</td>\n",
       "    </tr>\n",
       "    <tr>\n",
       "      <th>1991</th>\n",
       "      <td>679.0</td>\n",
       "      <td>528.0</td>\n",
       "      <td>56.255178</td>\n",
       "      <td>43.744822</td>\n",
       "    </tr>\n",
       "    <tr>\n",
       "      <th>1992</th>\n",
       "      <td>663.0</td>\n",
       "      <td>517.0</td>\n",
       "      <td>56.186441</td>\n",
       "      <td>43.813559</td>\n",
       "    </tr>\n",
       "  </tbody>\n",
       "</table>\n",
       "</div>"
      ],
      "text/plain": [
       "          Males Employed  Females Employed  % Males Employed  \\\n",
       "REF_DATE                                                       \n",
       "1988               581.0             492.0         54.147251   \n",
       "1989               605.0             518.0         53.873553   \n",
       "1990               643.0             512.0         55.670996   \n",
       "1991               679.0             528.0         56.255178   \n",
       "1992               663.0             517.0         56.186441   \n",
       "\n",
       "          % Females Employed  \n",
       "REF_DATE                      \n",
       "1988               45.852749  \n",
       "1989               46.126447  \n",
       "1990               44.329004  \n",
       "1991               43.744822  \n",
       "1992               43.813559  "
      ]
     },
     "execution_count": 48,
     "metadata": {},
     "output_type": "execute_result"
    }
   ],
   "source": [
    "# Create data frame to hold values\n",
    "gender_percentage_breakdown_NAICS_1988_2018 = pd.DataFrame({\n",
    "    \"Males Employed\": df_NAICS_54_1988_2019_males,\n",
    "    \"Females Employed\": df_NAICS_54_1988_2019_females,\n",
    "    \"% Males Employed\": percent_male_employed_NAICS_54_1988_2018,\n",
    "    \"% Females Employed\": percent_female_employed_NAICS_54_1988_2018\n",
    "})\n",
    "gender_percentage_breakdown_NAICS_1988_2018.head()"
   ]
  },
  {
   "cell_type": "code",
   "execution_count": 49,
   "metadata": {
    "scrolled": true
   },
   "outputs": [
    {
     "data": {
      "text/html": [
       "<div>\n",
       "<style scoped>\n",
       "    .dataframe tbody tr th:only-of-type {\n",
       "        vertical-align: middle;\n",
       "    }\n",
       "\n",
       "    .dataframe tbody tr th {\n",
       "        vertical-align: top;\n",
       "    }\n",
       "\n",
       "    .dataframe thead th {\n",
       "        text-align: right;\n",
       "    }\n",
       "</style>\n",
       "<table border=\"1\" class=\"dataframe\">\n",
       "  <thead>\n",
       "    <tr style=\"text-align: right;\">\n",
       "      <th></th>\n",
       "      <th>Males Employed</th>\n",
       "      <th>Females Employed</th>\n",
       "      <th>% Males Employed</th>\n",
       "      <th>% Females Employed</th>\n",
       "    </tr>\n",
       "    <tr>\n",
       "      <th>REF_DATE</th>\n",
       "      <th></th>\n",
       "      <th></th>\n",
       "      <th></th>\n",
       "      <th></th>\n",
       "    </tr>\n",
       "  </thead>\n",
       "  <tbody>\n",
       "    <tr>\n",
       "      <th>1988</th>\n",
       "      <td>581.0</td>\n",
       "      <td>492.0</td>\n",
       "      <td>54.15%</td>\n",
       "      <td>45.85%</td>\n",
       "    </tr>\n",
       "    <tr>\n",
       "      <th>1989</th>\n",
       "      <td>605.0</td>\n",
       "      <td>518.0</td>\n",
       "      <td>53.87%</td>\n",
       "      <td>46.13%</td>\n",
       "    </tr>\n",
       "    <tr>\n",
       "      <th>1990</th>\n",
       "      <td>643.0</td>\n",
       "      <td>512.0</td>\n",
       "      <td>55.67%</td>\n",
       "      <td>44.33%</td>\n",
       "    </tr>\n",
       "    <tr>\n",
       "      <th>1991</th>\n",
       "      <td>679.0</td>\n",
       "      <td>528.0</td>\n",
       "      <td>56.26%</td>\n",
       "      <td>43.74%</td>\n",
       "    </tr>\n",
       "    <tr>\n",
       "      <th>1992</th>\n",
       "      <td>663.0</td>\n",
       "      <td>517.0</td>\n",
       "      <td>56.19%</td>\n",
       "      <td>43.81%</td>\n",
       "    </tr>\n",
       "  </tbody>\n",
       "</table>\n",
       "</div>"
      ],
      "text/plain": [
       "          Males Employed  Females Employed % Males Employed % Females Employed\n",
       "REF_DATE                                                                      \n",
       "1988               581.0             492.0           54.15%             45.85%\n",
       "1989               605.0             518.0           53.87%             46.13%\n",
       "1990               643.0             512.0           55.67%             44.33%\n",
       "1991               679.0             528.0           56.26%             43.74%\n",
       "1992               663.0             517.0           56.19%             43.81%"
      ]
     },
     "execution_count": 49,
     "metadata": {},
     "output_type": "execute_result"
    }
   ],
   "source": [
    "# Format for percentage\n",
    "gender_percentage_breakdown_NAICS_1988_2018[\"% Males Employed\"] = gender_percentage_breakdown_NAICS_1988_2018[\"% Males Employed\"].map(\"{0:,.2f}%\".format)\n",
    "gender_percentage_breakdown_NAICS_1988_2018[\"% Females Employed\"] = gender_percentage_breakdown_NAICS_1988_2018[\"% Females Employed\"].map(\"{0:,.2f}%\".format)\n",
    "gender_percentage_breakdown_NAICS_1988_2018.head()"
   ]
  },
  {
   "cell_type": "code",
   "execution_count": null,
   "metadata": {},
   "outputs": [],
   "source": []
  }
 ],
 "metadata": {
  "kernelspec": {
   "display_name": "Python 3",
   "language": "python",
   "name": "python3"
  },
  "language_info": {
   "codemirror_mode": {
    "name": "ipython",
    "version": 3
   },
   "file_extension": ".py",
   "mimetype": "text/x-python",
   "name": "python",
   "nbconvert_exporter": "python",
   "pygments_lexer": "ipython3",
   "version": "3.7.3"
  }
 },
 "nbformat": 4,
 "nbformat_minor": 2
}
